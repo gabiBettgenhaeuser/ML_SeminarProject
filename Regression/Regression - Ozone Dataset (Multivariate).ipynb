{
 "cells": [
  {
   "cell_type": "markdown",
   "metadata": {},
   "source": [
    "#                   Experiments for Regression using Ozone Dataset (Multivariate)"
   ]
  },
  {
   "cell_type": "markdown",
   "metadata": {},
   "source": [
    "Data frame with components: ozone, radiation, temperature, and wind. Measurements of daily ozone concentration (ppb), wind speed (mph), daily maximum tempera- ture (degrees F), and solar radiation(langleys) on 111 days from May to September 1973 in New York.  This data frame is similar to air in S-PLUS (or library(data) in S), but has a different definition for ozone (air contains cube-roots of\n",
    "ozone)."
   ]
  },
  {
   "cell_type": "code",
   "execution_count": 1,
   "metadata": {},
   "outputs": [
    {
     "data": {
      "text/html": [
       "<div>\n",
       "<style scoped>\n",
       "    .dataframe tbody tr th:only-of-type {\n",
       "        vertical-align: middle;\n",
       "    }\n",
       "\n",
       "    .dataframe tbody tr th {\n",
       "        vertical-align: top;\n",
       "    }\n",
       "\n",
       "    .dataframe thead th {\n",
       "        text-align: right;\n",
       "    }\n",
       "</style>\n",
       "<table border=\"1\" class=\"dataframe\">\n",
       "  <thead>\n",
       "    <tr style=\"text-align: right;\">\n",
       "      <th></th>\n",
       "      <th>ozone</th>\n",
       "      <th>radiation</th>\n",
       "      <th>temperature</th>\n",
       "      <th>wind</th>\n",
       "    </tr>\n",
       "  </thead>\n",
       "  <tbody>\n",
       "    <tr>\n",
       "      <th>count</th>\n",
       "      <td>111.000000</td>\n",
       "      <td>111.000000</td>\n",
       "      <td>111.000000</td>\n",
       "      <td>111.000000</td>\n",
       "    </tr>\n",
       "    <tr>\n",
       "      <th>mean</th>\n",
       "      <td>42.036036</td>\n",
       "      <td>184.801802</td>\n",
       "      <td>77.792793</td>\n",
       "      <td>9.947748</td>\n",
       "    </tr>\n",
       "    <tr>\n",
       "      <th>std</th>\n",
       "      <td>33.179382</td>\n",
       "      <td>91.152302</td>\n",
       "      <td>9.529969</td>\n",
       "      <td>3.549644</td>\n",
       "    </tr>\n",
       "    <tr>\n",
       "      <th>min</th>\n",
       "      <td>1.000000</td>\n",
       "      <td>7.000000</td>\n",
       "      <td>57.000000</td>\n",
       "      <td>2.300000</td>\n",
       "    </tr>\n",
       "    <tr>\n",
       "      <th>25%</th>\n",
       "      <td>18.000000</td>\n",
       "      <td>113.500000</td>\n",
       "      <td>71.000000</td>\n",
       "      <td>7.400000</td>\n",
       "    </tr>\n",
       "    <tr>\n",
       "      <th>50%</th>\n",
       "      <td>31.000000</td>\n",
       "      <td>207.000000</td>\n",
       "      <td>79.000000</td>\n",
       "      <td>9.700000</td>\n",
       "    </tr>\n",
       "    <tr>\n",
       "      <th>75%</th>\n",
       "      <td>62.000000</td>\n",
       "      <td>255.500000</td>\n",
       "      <td>84.500000</td>\n",
       "      <td>11.500000</td>\n",
       "    </tr>\n",
       "    <tr>\n",
       "      <th>max</th>\n",
       "      <td>168.000000</td>\n",
       "      <td>334.000000</td>\n",
       "      <td>97.000000</td>\n",
       "      <td>20.700000</td>\n",
       "    </tr>\n",
       "  </tbody>\n",
       "</table>\n",
       "</div>"
      ],
      "text/plain": [
       "            ozone   radiation  temperature        wind\n",
       "count  111.000000  111.000000   111.000000  111.000000\n",
       "mean    42.036036  184.801802    77.792793    9.947748\n",
       "std     33.179382   91.152302     9.529969    3.549644\n",
       "min      1.000000    7.000000    57.000000    2.300000\n",
       "25%     18.000000  113.500000    71.000000    7.400000\n",
       "50%     31.000000  207.000000    79.000000    9.700000\n",
       "75%     62.000000  255.500000    84.500000   11.500000\n",
       "max    168.000000  334.000000    97.000000   20.700000"
      ]
     },
     "execution_count": 1,
     "metadata": {},
     "output_type": "execute_result"
    }
   ],
   "source": [
    "import pandas as pd\n",
    "ozone = pd.read_csv(\"ozone_data.csv\")\n",
    "ozone.describe()"
   ]
  },
  {
   "cell_type": "code",
   "execution_count": 2,
   "metadata": {},
   "outputs": [],
   "source": [
    "#Utilities\n",
    "import numpy as np \n",
    "\n",
    "def rademacher_variables(vec_size):\n",
    "    if vec_size % 2 != 0:\n",
    "        return(\"Error, vector size should be even.\")\n",
    "    s = np.random.binomial(1,0.5, vec_size)\n",
    "    a = sum(s)\n",
    "    while a.all() !=0:\n",
    "        s = np.random.binomial(1,0.5, vec_size)\n",
    "        s[s < 1] = -1\n",
    "        a = sum(s)\n",
    "    return(s)\n",
    "      \n",
    "def rademacher_bound(array_x, delta, train_error, array_Rademacher):\n",
    "    c =3*(np.sqrt(np.log(2/delta))/(2*(array_x)))\n",
    "    bound = np.add(train_error, array_Rademacher)\n",
    "    bound = np.add(bound,c)\n",
    "    return(bound)\n",
    "\n",
    "def vc_dimension_regression(array_x, array_Rademacher):\n",
    "    c = array_x/(2*np.log(array_x))\n",
    "    VC = (array_Rademacher**2)*c\n",
    "    return(VC)\n",
    "\n",
    "def VC_bound(array_x, train_error, array_VCdim, delta):\n",
    "    a = array_VCdim/array_x #VC/#samples\n",
    "    b = np.log(array_x/array_VCdim)\n",
    "    c = np.log(delta/4)\n",
    "    VCbound = train_error/abs((1-0.1*np.sqrt(a+a*b-c)))\n",
    "    return(VCbound)"
   ]
  },
  {
   "cell_type": "markdown",
   "metadata": {},
   "source": [
    "### Experiment 1:  Evaluating how train and test error varies with increasing training set size.\n",
    "\n",
    "<br>Empirical train and test error: Root Mean Squared Error \n",
    "<br>Theoretical Bounds: Rademacher and VC Bounds for Regression \n",
    "\n",
    "Hyperparameters: \n",
    "<br>Test Samples = 15\n",
    "<br>Train Samples = [4,6,8,....,24]\n",
    "<br>We run each sample size 100 times and take the average for calculating the empirical erros to reduce noise. \n"
   ]
  },
  {
   "cell_type": "code",
   "execution_count": 10,
   "metadata": {},
   "outputs": [
    {
     "name": "stdout",
     "output_type": "stream",
     "text": [
      "Rademacher Constant\n",
      "[1.8189894035458565e-12, 21.02674319742229, 13.329583711660945, 19.468283648388468, 14.149185735234084, 15.745851159742758, 15.513266195866443, 15.902725147484798, 14.354295716815262, 12.167175461688469, 15.160809597604356]\n",
      "Rademacher Bound\n",
      "[ 0.64905689 32.25930826 26.87556322 35.06298707 30.7282815  34.03654247\n",
      " 33.04251709 33.36219462 32.97192864 31.21129001 33.88258641]\n"
     ]
    }
   ],
   "source": [
    "import numpy as np\n",
    "import pandas as pd\n",
    "from sklearn.linear_model import LinearRegression\n",
    "from sklearn.model_selection import train_test_split \n",
    "from sklearn.metrics import mean_squared_error\n",
    "from sklearn import preprocessing\n",
    "from sklearn.datasets import load_boston\n",
    "from random import sample\n",
    "\n",
    "n = range(4,25, 2)\n",
    "n_2 = range(0,100,1)\n",
    "\n",
    "test_error = []\n",
    "train_error = []\n",
    "temp_test = []\n",
    "temp_train = []\n",
    "temp_L = []\n",
    "Rad = []\n",
    "\n",
    "#Test set\n",
    "df_x = ozone\n",
    "df_x = df_x.drop(columns = ['ozone'])\n",
    "# df_x = np.array(ozone['temperature']).reshape(-1,1)\n",
    "df_y = ozone['ozone']\n",
    "X, X_test, Y, Y_test = train_test_split(df_x, df_y, test_size = 0.12)\n",
    "\n",
    "\n",
    "for counter,value in enumerate(n): \n",
    "    for j in n_2:\n",
    "        #step 1 - train set\n",
    "        idx = sample(range(0,len(X)), value)\n",
    "        X_train = X.iloc[idx]\n",
    "        Y_train = Y.iloc[idx]\n",
    "     \n",
    "        Y_pred_train = np.empty_like(Y_train)\n",
    "        Y_pred_test = np.empty_like(Y_test)\n",
    "    \n",
    "        #rademacher sigma\n",
    "        s = rademacher_variables(len(Y_train))\n",
    "\n",
    "        #Step 2: model fitting\n",
    "        #initialisation of linear regression model\n",
    "        m = LinearRegression()\n",
    "\n",
    "        #inserting train data into model for training\n",
    "        m.fit(X_train,Y_train)\n",
    "\n",
    "        #predicting values for test data\n",
    "        Y_pred_test = m.predict(X_test)\n",
    "        Y_pred_train = m.predict(X_train)\n",
    "\n",
    "        #computing RMSE\n",
    "        error_test= np.sqrt(mean_squared_error(Y_test, Y_pred_test))\n",
    "        temp_test.append(error_test)\n",
    "\n",
    "        error_train= np.sqrt(mean_squared_error(Y_train, Y_pred_train))\n",
    "        temp_train.append(error_train)\n",
    "\n",
    "         #Rademacher constant      \n",
    "        temp_L.append(float(2*(np.dot(s, np.sqrt((Y_train-Y_pred_train)**2))/len(Y_train))))\n",
    "    \n",
    "    test_error.append(sum(temp_test)/len(temp_test))\n",
    "    train_error.append(sum(temp_train)/len(temp_train))\n",
    "    Rad.append((max(temp_L)))\n",
    "    temp_test.clear()\n",
    "    temp_train.clear()\n",
    "    temp_L.clear()\n",
    "\n",
    "#Calculating Rademacher and VC Bounds\n",
    "print(\"Rademacher Constant\")\n",
    "print(Rad)\n",
    "radBound = rademacher_bound(np.array(n), 0.1, np.array(train_error), np.array(Rad))\n",
    "print(\"Rademacher Bound\")\n",
    "print(radBound)"
   ]
  },
  {
   "cell_type": "code",
   "execution_count": 11,
   "metadata": {},
   "outputs": [
    {
     "data": {
      "image/png": "[encoded data removed]",
      "text/plain": [
       "<Figure size 1080x360 with 1 Axes>"
      ]
     },
     "metadata": {
      "needs_background": "light"
     },
     "output_type": "display_data"
    }
   ],
   "source": [
    "#Step 3: Evaluation\n",
    "\n",
    "import matplotlib.pyplot as plt\n",
    "\n",
    "fig, ax = plt.subplots(nrows=1, ncols=1, figsize = (15,5))\n",
    "fig.suptitle('Sample Size vs RMSE',fontsize=20)\n",
    "ax.plot(n,train_error,color='blue', label = 'Train')\n",
    "ax.plot(n,test_error,color = 'green', label = 'Test')\n",
    "ax.plot(n,radBound.reshape(-1,1), color = 'red', label = 'Rad')\n",
    "ax.legend(loc='upper right')\n",
    "plt.show()\n",
    "\n"
   ]
  },
  {
   "cell_type": "code",
   "execution_count": 12,
   "metadata": {},
   "outputs": [
    {
     "name": "stdout",
     "output_type": "stream",
     "text": [
      "[[ 4  6  8 10 12 14 16 18 20 22 24]]\n",
      "    |   Population Average    |             Best Individual              |\n",
      "---- ------------------------- ------------------------------------------ ----------\n",
      " Gen   Length          Fitness   Length          Fitness      OOB Fitness  Time Left\n",
      "   0    13.73      4.97002e+14        5           8121.7          99320.3      7.82s\n",
      "   1    11.77      7.52983e+07       12          7922.71           100352      8.62s\n",
      "   2    11.30      3.01055e+08        6          7207.15          83327.5      6.27s\n",
      "   3    11.28      4.33175e+09       11          6000.19            80753      5.61s\n",
      "   4    12.35      7.51816e+08       21          5384.83          83522.1      4.91s\n",
      "   5    12.59      1.24531e+14        9          3365.22          86486.9      4.96s\n",
      "   6    13.92       2.2224e+14       11          3034.49          84543.2      3.28s\n",
      "   7    16.30      9.03971e+09       13          3034.49          84543.2      2.14s\n",
      "   8    19.43      7.13415e+09       21          1717.19            90471      1.17s\n",
      "   9    22.32      2.22719e+14       17          1717.19            90471      0.00s\n",
      "sqrt(mul(xexp(xexp(log(sqrt(xexp(sqrt(xexp(xexp(log(sqrt(xexp(xexp(X0)))))))))))), sqrt(-0.271)))\n"
     ]
    }
   ],
   "source": [
    "#Step 4: Symbolic Regression (finding closed formula for test error depending only on sample size)\n",
    "import gplearn as gpl \n",
    "from gplearn.genetic import SymbolicRegressor\n",
    "\n",
    "# Create custom operations (exp) to be considered in the tree\n",
    "def _xexp( x ):\n",
    "    a = np.exp(x); \n",
    "    a[ np.abs(a) > 1e+9 ] = 1e+9\n",
    "    return a    \n",
    "\n",
    "xexp = gpl.functions.make_function( function = _xexp, name='xexp', arity=1 )\n",
    "f_set = function_set = ['add','mul', 'div', 'log', 'sqrt', 'neg', xexp]\n",
    "\n",
    "#fitting sumbolic regressor\n",
    "est_gp = SymbolicRegressor(population_size=1000,\n",
    "                           generations=10, stopping_criteria=0.01,\n",
    "                           p_crossover=0.7, p_subtree_mutation=0.1,\n",
    "                           p_hoist_mutation=0.1, p_point_mutation=0.1,\n",
    "                           max_samples=0.9, verbose=1,\n",
    "                           parsimony_coefficient=5, random_state=0,\n",
    "                           function_set = f_set)\n",
    "\n",
    "sample = []\n",
    "for i in n: \n",
    "    sample.append(i)  \n",
    "sample = np.array([sample])\n",
    "print(sample)\n",
    "\n",
    "est_gp.fit(sample.reshape(-1,1),np.dot(1000,test_error))\n",
    "print(est_gp._program)"
   ]
  },
  {
   "cell_type": "code",
   "execution_count": 17,
   "metadata": {},
   "outputs": [
    {
     "name": "stdout",
     "output_type": "stream",
     "text": [
      "MSE (test_error x symbolic regressor)\n",
      "215.81582476019486\n"
     ]
    },
    {
     "data": {
      "image/png": "[encoded data removed]",
      "text/plain": [
       "<Figure size 432x288 with 1 Axes>"
      ]
     },
     "metadata": {
      "needs_background": "light"
     },
     "output_type": "display_data"
    }
   ],
   "source": [
    "#Step 5: Evaluation for Symbolic Regressor\n",
    "print(\"MSE (test_error x symbolic regressor)\")\n",
    "y = ((np.sqrt(np.exp(-sample)))*1200)+22\n",
    "print(mean_squared_error(test_error, y.reshape(-1,1)))\n",
    "\n",
    "plt.plot(sample.reshape(-1,1),test_error, label = 'real')\n",
    "plt.plot(sample.reshape(-1,1),y.reshape(-1,1), label = 'gp')\n",
    "plt.legend(loc='upper right')\n",
    "plt.show()\n"
   ]
  },
  {
   "cell_type": "markdown",
   "metadata": {},
   "source": [
    "### Conclusions experiment 1: \n",
    "**Theoretical expectations for Empirical Error Estimation:**\n",
    "<br>Similar conclusions as in Boston dataset.\n",
    "<br>**Symbolic Regression Results:**\n",
    "<br>Similar conclusions as in Boston dataset. Close-form expression for test error is:\n",
    "$$ (c*\\sqrt[2]{e^{-n}}+b) $$"
   ]
  },
  {
   "cell_type": "markdown",
   "metadata": {},
   "source": [
    "### Experiment 2:  Evaluating how train and test error varies with increasing model capacity\n",
    "Empirical train and test error: Root Mean Squared Error \n",
    "<br>Theoretical Bounds: Rademacher and VC Bounds for Regression \n",
    "\n",
    "Hyperparameters: \n",
    "<br>Test Samples = 15\n",
    "<br>Train Samples = 10\n",
    "<br>Varying model capacity by adding polynomials with degrees = [1,2,3...,10]\n",
    "<br>Run each polynomial 100 times and take the average for calculating the empirical erros to reduce noise. \n"
   ]
  },
  {
   "cell_type": "code",
   "execution_count": 18,
   "metadata": {},
   "outputs": [
    {
     "name": "stdout",
     "output_type": "stream",
     "text": [
      "polyonomial: 1\n",
      "polyonomial: 2\n",
      "polyonomial: 3\n",
      "polyonomial: 4\n",
      "polyonomial: 5\n",
      "polyonomial: 6\n",
      "polyonomial: 7\n",
      "polyonomial: 8\n",
      "polyonomial: 9\n",
      "polyonomial: 10\n",
      "Rademacher Constant\n",
      "[14.873934393140422, 1.825392246246338e-08, 3.61524143954739e-12, 1.6484591469634324e-12, 1.4006218407303095e-11, 6.9675820668635426e-12, 9.57811607804615e-12, 6.176321676321095e-11, 1.232385216098919e-09, 3.9464964629587485e-10]\n",
      "Rademacher Bound\n",
      "[30.81166449  0.25962278  0.25962276  0.25962276  0.25962276  0.25962276\n",
      "  0.25962276  0.25962276  0.25962276  0.25962276]\n"
     ]
    }
   ],
   "source": [
    "import numpy as np\n",
    "import pandas as pd\n",
    "from sklearn.preprocessing import PolynomialFeatures\n",
    "from sklearn.linear_model import LinearRegression\n",
    "from sklearn.model_selection import train_test_split \n",
    "from sklearn.metrics import mean_squared_error\n",
    "from sklearn import preprocessing\n",
    "from sklearn.datasets import load_boston\n",
    "from random import sample\n",
    "\n",
    "samples = 10\n",
    "n_2 = range(0,100,1)\n",
    "pw = range(1,11,1)\n",
    "\n",
    "test_error = []\n",
    "train_error = []\n",
    "temp_test = []\n",
    "temp_train = []\n",
    "temp_L = []\n",
    "Rad = []\n",
    "h = 0\n",
    "\n",
    "#Test set\n",
    "df_x = ozone\n",
    "df_x = df_x.drop(columns = ['ozone'])\n",
    "df_y = ozone['ozone']\n",
    "X, X_test, Y, Y_test = train_test_split(df_x, df_y, test_size = 0.12)\n",
    "\n",
    "\n",
    "for i in pw:\n",
    "    print(\"polyonomial: \" + str(i))\n",
    "    for j in n_2:\n",
    "        #step 1 - train set\n",
    "        idx = sample(range(0,len(X)), samples)\n",
    "        X_train = X.iloc[idx]\n",
    "        Y_train = Y.iloc[idx]\n",
    "     \n",
    "        Y_pred_train = np.empty_like(Y_train)\n",
    "        Y_pred_test = np.empty_like(Y_test)\n",
    "        \n",
    "        #calculating polinomial features from 1 to 10 degree\n",
    "        poly = PolynomialFeatures(degree = h+1) \n",
    "        X_poly_train = poly.fit_transform(X_train)\n",
    "        X_poly_test = poly.fit_transform(X_test)\n",
    "    \n",
    "        #rademacher sigma\n",
    "        s = rademacher_variables(len(Y_train))\n",
    "\n",
    "        #Step 2: model fitting\n",
    "        #initialisation of linear regression/insert data for training/prediction\n",
    "        m = LinearRegression()\n",
    "\n",
    "        #inserting train data in model for training\n",
    "        m.fit(X_poly_train,Y_train)\n",
    "\n",
    "        #predicting values for test data\n",
    "        Y_pred_test = m.predict(X_poly_test)\n",
    "        Y_pred_train = m.predict(X_poly_train)\n",
    "\n",
    "        #computing RMSE\n",
    "        error_test= np.sqrt(mean_squared_error(Y_test, Y_pred_test))\n",
    "        temp_test.append(error_test)\n",
    "\n",
    "        error_train= np.sqrt(mean_squared_error(Y_train, Y_pred_train))\n",
    "        temp_train.append(error_train)\n",
    "\n",
    "         #Rademacher constant      \n",
    "        temp_L.append(float(2*(np.dot(s, np.sqrt((Y_train-Y_pred_train)**2))/len(Y_train))))\n",
    "    \n",
    "    test_error.append(sum(temp_test)/len(temp_test))\n",
    "    train_error.append(sum(temp_train)/len(temp_train))\n",
    "    Rad.append((max(temp_L)))\n",
    "    temp_test.clear()\n",
    "    temp_train.clear()\n",
    "    temp_L.clear()\n",
    "    h += 1\n",
    "\n",
    "#Calculating Rademacher and VC Bounds\n",
    "print(\"Rademacher Constant\")\n",
    "print(Rad)\n",
    "radBound = rademacher_bound((np.array(samples))*np.ones(len(pw)), 0.1, np.array(train_error), np.array(Rad))\n",
    "print(\"Rademacher Bound\")\n",
    "print(radBound)"
   ]
  },
  {
   "cell_type": "code",
   "execution_count": 19,
   "metadata": {},
   "outputs": [
    {
     "data": {
      "image/png": "[encoded data removed]",
      "text/plain": [
       "<Figure size 1080x360 with 1 Axes>"
      ]
     },
     "metadata": {
      "needs_background": "light"
     },
     "output_type": "display_data"
    }
   ],
   "source": [
    "#Step 3: Evaluation\n",
    "\n",
    "import matplotlib.pyplot as plt\n",
    "\n",
    "fig, ax = plt.subplots(nrows=1, ncols=1, figsize = (15,5))\n",
    "fig.suptitle('Model Capacity vs RMSE',fontsize=20)\n",
    "ax.plot(pw,train_error,color='blue', label = 'Train')\n",
    "ax.plot(pw,test_error,color = 'green', label = 'Test')\n",
    "ax.plot(pw,radBound.reshape(-1,1), color = 'red', label = 'Rad')\n",
    "ax.legend(loc='upper right')\n",
    "plt.show()\n",
    "\n"
   ]
  },
  {
   "cell_type": "code",
   "execution_count": 20,
   "metadata": {},
   "outputs": [
    {
     "name": "stdout",
     "output_type": "stream",
     "text": [
      "[1, 2, 3, 4, 5, 6, 7, 8, 9, 10]\n",
      "[25.748408118933913, 914.6519734272247, 494.3357635685172, 241.9703379295814, 334.89942137901505, 536.8066456614364, 1188.657762360883, 2620.4602520693106, 11077.364568676176, 42278.63238543965]\n",
      "    |   Population Average    |             Best Individual              |\n",
      "---- ------------------------- ------------------------------------------ ----------\n",
      " Gen   Length          Fitness   Length          Fitness      OOB Fitness  Time Left\n",
      "   0    13.73       6.4457e+09       24           1039.9          24.7484     16.48s\n",
      "   1    11.45      9.80296e+06       20          435.537          11372.2     21.15s\n",
      "   2    12.89      8.95202e+08       17           415.67          11690.6     19.01s\n",
      "   3    16.19       7.9596e+08       23          415.033          11700.7     18.58s\n",
      "   4    17.11      2.24934e+09       17           415.67          11690.6     18.27s\n",
      "   5    18.80       9.4642e+08       30          375.238          7351.85     19.74s\n",
      "   6    18.87      7.67304e+06       18          370.759          9462.43     16.71s\n",
      "   7    20.96      8.39753e+06       17          404.195          13132.4     13.56s\n",
      "   8    23.37      7.39599e+06       46          385.328          9861.53     17.54s\n",
      "   9    23.31      4.95594e+06       15          405.189          13180.3     15.68s\n",
      "  10    23.42      5.33025e+06       33          347.066          9407.46     12.63s\n",
      "  11    28.13      9.91558e+06       39          349.759          6415.41     12.46s\n",
      "  12    27.30       3.9939e+06       21          362.281          5827.32     12.48s\n",
      "  13    26.88      6.66368e+06       45          382.813          5432.53      8.78s\n",
      "  14    26.00      5.02465e+06       27          362.281          5827.32      7.84s\n",
      "  15    30.05      1.94744e+06       49          340.771          7041.24      6.00s\n",
      "  16    31.18      3.69802e+06       35          390.245          1915.48      4.80s\n",
      "  17    33.94      3.38888e+06       23          390.378          1914.47      3.40s\n",
      "  18    36.95       4.3064e+06       76          375.875           1579.3      1.82s\n",
      "  19    41.89       2.0651e+06       53          349.096          6515.36      0.00s\n",
      "sqrt(div(mul(mul(-0.031, X0), neg(xexp(add(X0, X0)))), div(div(log(X0), sqrt(sqrt(sqrt(sqrt(xexp(X0)))))), sqrt(sqrt(sqrt(add(mul(log(log(xexp(-0.733))), neg(xexp(add(X0, X0)))), div(div(0.800, 0.779), sqrt(sqrt(add(xexp(X0), xexp(sqrt(sqrt(neg(neg(xexp(add(X0, X0))))))))))))))))))\n"
     ]
    }
   ],
   "source": [
    "#Step 4: Symbolic Regression\n",
    "import gplearn as gpl        \n",
    "from gplearn.genetic import SymbolicRegressor\n",
    "\n",
    "# Create custom operations (exp) to be considered in the tree\n",
    "def xexp( x ):\n",
    "    a = np.exp(x); \n",
    "    a[ np.abs(a) > 1e+9 ] = 1e+9\n",
    "    return a \n",
    "\n",
    "xexp = gpl.functions.make_function( function = _xexp, name='xexp', arity=1 )\n",
    "f_set = function_set = ['add','mul', 'div', 'log', 'sqrt', 'neg', xexp]\n",
    "est_gp = SymbolicRegressor(population_size=1000,\n",
    "                           generations=20, stopping_criteria=0.01,\n",
    "                           p_crossover=0.7, p_subtree_mutation=0.1,\n",
    "                           p_hoist_mutation=0.1, p_point_mutation=0.1,\n",
    "                           max_samples=0.9, verbose=1,\n",
    "                           parsimony_coefficient=0.2, random_state=0,\n",
    "                           function_set = f_set)\n",
    "\n",
    "power = []\n",
    "for i in pw: \n",
    "    power.append(i)  \n",
    "print(power)\n",
    "power = np.array([power])\n",
    "print(test_error)\n",
    "est_gp.fit(power.reshape(-1,1), test_error)\n",
    "print(est_gp._program)"
   ]
  },
  {
   "cell_type": "code",
   "execution_count": 44,
   "metadata": {},
   "outputs": [
    {
     "name": "stdout",
     "output_type": "stream",
     "text": [
      "48782454.97501461\n"
     ]
    },
    {
     "data": {
      "image/png": "[encoded data removed]",
      "text/plain": [
       "<Figure size 432x288 with 1 Axes>"
      ]
     },
     "metadata": {
      "needs_background": "light"
     },
     "output_type": "display_data"
    }
   ],
   "source": [
    "#Step 5: Evaluation for Symbolic Regressor\n",
    "y = np.exp(np.sqrt(power)*3.4)\n",
    "print(mean_squared_error(test_error, y.reshape(-1,1)))\n",
    "plt.plot(power.reshape(-1,1),test_error, label = 'real')\n",
    "plt.plot(power.reshape(-1,1),y.reshape(-1,1), label = 'gp')\n",
    "plt.legend(loc='upper right')\n",
    "plt.show()"
   ]
  },
  {
   "cell_type": "markdown",
   "metadata": {},
   "source": [
    "### Conclusions experiment 2: \n",
    "\n",
    "**Theoretical expectations for Empirical Error Estimation:**\n",
    "<br>Same results as in Boston dataset. \n",
    "<br>**Symbolic Regression Results:**\n",
    "<br>Same results as in Boston dataset.\n"
   ]
  },
  {
   "cell_type": "markdown",
   "metadata": {},
   "source": [
    "## Experiment 3:  Evaluating how train and test error varies by changing model capacity and sample size at the same time\n",
    "Empirical train and test error: Root Mean Squared Error \n",
    "<br>Theoretical Bounds: Rademacher and VC Bounds for Regression \n",
    "\n",
    "Hyperparameters: \n",
    "<br>Test Samples = 25\n",
    "<br>Train Samples = [4,6,8,10]\n",
    "<br>Varying model capacity by adding polynomials with degrees = [1,2,3...,6]\n",
    "<br>Run each polynomial 100 times and take the average for calculating the empirical erros to reduce noise. "
   ]
  },
  {
   "cell_type": "code",
   "execution_count": 49,
   "metadata": {},
   "outputs": [
    {
     "name": "stdout",
     "output_type": "stream",
     "text": [
      "Samples:  4\n",
      "power:  1\n",
      "power:  2\n",
      "power:  3\n",
      "power:  4\n",
      "power:  5\n",
      "power:  6\n",
      "Samples:  6\n",
      "power:  1\n",
      "power:  2\n",
      "power:  3\n",
      "power:  4\n",
      "power:  5\n",
      "power:  6\n",
      "Samples:  8\n",
      "power:  1\n",
      "power:  2\n",
      "power:  3\n",
      "power:  4\n",
      "power:  5\n",
      "power:  6\n",
      "Samples:  10\n",
      "power:  1\n",
      "power:  2\n",
      "power:  3\n",
      "power:  4\n",
      "power:  5\n",
      "power:  6\n",
      "Rademacher Constant\n",
      "[[9.09494702e-13 1.92371339e+01 1.53686862e+01 1.28375574e+01]\n",
      " [2.27373675e-13 1.26950302e-12 3.54702934e-11 4.28408384e-09]\n",
      " [6.25277607e-13 1.83320026e-12 2.40873987e-12 8.54925020e-12]\n",
      " [4.26325641e-13 4.11641092e-12 3.12638804e-12 9.09494702e-12]\n",
      " [1.76214598e-12 6.50857146e-12 4.88853402e-12 1.53477231e-11]\n",
      " [1.41175960e-11 8.04156741e-12 6.29718500e-12 8.53788151e-12]]\n",
      "Rademacher Bound\n",
      "[[ 0.67322493 30.06815908 28.89404742 27.91067833]\n",
      " [ 0.64905689  0.4327046   0.32452845  0.25962276]\n",
      " [ 0.64905689  0.4327046   0.32452845  0.25962276]\n",
      " [ 0.64905689  0.4327046   0.32452845  0.25962276]\n",
      " [ 0.64905689  0.4327046   0.32452845  0.25962276]\n",
      " [ 0.64905689  0.4327046   0.32452845  0.25962276]]\n"
     ]
    }
   ],
   "source": [
    "from sklearn.datasets import load_boston\n",
    "from sklearn.preprocessing import PolynomialFeatures\n",
    "from sklearn.linear_model import LinearRegression\n",
    "from sklearn.metrics import mean_squared_error\n",
    "from sklearn import preprocessing\n",
    "from sklearn.model_selection import train_test_split \n",
    "from random import sample\n",
    "import pandas as pd\n",
    "import numpy as np\n",
    "\n",
    "n = range(4,12, 2)\n",
    "n_2 = range(0,100,1)\n",
    "pw = range(1,7,1)\n",
    "test_error = np.zeros([len(pw),len(n)])\n",
    "train_error = np.zeros([len(pw),len(n)])\n",
    "Rad = np.zeros([len(pw),len(n)])\n",
    "temp = []\n",
    "temp2= []\n",
    "temp_train = []\n",
    "temp2_train = []\n",
    "temp_L = []\n",
    "temp_L2 = []\n",
    "\n",
    "\n",
    "#Test set\n",
    "df_x = ozone\n",
    "df_x = df_x.drop(columns = ['ozone'])\n",
    "df_y = ozone['ozone']\n",
    "X, X_test, Y, Y_test = train_test_split(df_x, df_y, test_size = 0.12)\n",
    "\n",
    "\n",
    "for counter,value in enumerate(n): \n",
    "    print(\"Samples: \", str(value))\n",
    "    for i in pw:\n",
    "        print(\"power: \", str(i))\n",
    "        for j in n_2:   \n",
    "            #step 1 - train set\n",
    "            idx = sample(range(0,len(X)), value)\n",
    "            X_train = X.iloc[idx]\n",
    "            Y_train = Y.iloc[idx]\n",
    "\n",
    "            Y_pred_train = np.empty_like(Y_train)\n",
    "            Y_pred_test = np.empty_like(Y_test)\n",
    "\n",
    "            #creating polynomialfeatures\n",
    "            poly = PolynomialFeatures(degree = i) \n",
    "            X_train_poly = poly.fit_transform(X_train) \n",
    "            X_test_poly = poly.fit_transform(X_test) \n",
    "\n",
    "            #rademacher sigma\n",
    "            s = rademacher_variables(len(Y_train))\n",
    "            \n",
    "            #step 2 - model training\n",
    "            #initialisation of linear regression \n",
    "            m = LinearRegression()\n",
    "\n",
    "            #inserting train data in model for training\n",
    "            m.fit(X_train_poly,Y_train)\n",
    "\n",
    "            #predicting values for test data\n",
    "            Y_pred = m.predict(X_test_poly)\n",
    "            Y_pred_train = m.predict(X_train_poly)\n",
    "\n",
    "            #computing RMSE for train and test\n",
    "            error = np.sqrt(mean_squared_error(Y_test, Y_pred))\n",
    "            temp.append(error) \n",
    "            error_train = np.sqrt(mean_squared_error(Y_train, Y_pred_train))\n",
    "            temp_train.append(error_train)\n",
    "            \n",
    "            #computing Rademacher constant\n",
    "            L = (2*np.dot(s, np.sqrt((Y_train-Y_pred_train)**2)))/len(Y_train)\n",
    "            temp_L.append(L)\n",
    "\n",
    "\n",
    "        temp2.append(sum(temp) / len(temp))\n",
    "        temp2_train.append(sum(temp_train)/len(temp_train))\n",
    "        temp_L2.append(max(temp_L))\n",
    "        temp.clear()\n",
    "        temp_train.clear()\n",
    "        temp_L.clear()\n",
    "    test_error[:,counter] = temp2\n",
    "    train_error[:,counter] = temp2_train\n",
    "    Rad[:,counter] = temp_L2\n",
    "    temp2.clear()\n",
    "    temp2_train.clear()\n",
    "    temp_L2.clear()\n",
    "\n",
    "#Calculating Rademacher and VC Bounds\n",
    "print(\"Rademacher Constant\")\n",
    "print(Rad)\n",
    "radBound = np.zeros([len(pw),len(n)])\n",
    "c =3*(np.sqrt(np.log(2/0.1))/(2*(np.array(n))))\n",
    "for i in range(0,len(pw)):\n",
    "    radBound[i] = np.add(train_error[i], Rad[i])\n",
    "    radBound[i] = np.add(radBound[i],c)\n",
    "print(\"Rademacher Bound\")\n",
    "print(radBound)"
   ]
  },
  {
   "cell_type": "code",
   "execution_count": 50,
   "metadata": {},
   "outputs": [
    {
     "name": "stdout",
     "output_type": "stream",
     "text": [
      "Min RMSE:  23.96001993510338\n",
      "Position of min RMSE:  (array([0], dtype=int64), array([3], dtype=int64))\n",
      "[1, 2, 3, 4, 5, 6]\n",
      "[4, 6, 8, 10]\n",
      "\n",
      "Min RMSE for each polynomial \n",
      "[ 23.96001994  58.87354907  87.82243704 116.59264041 210.20375234\n",
      " 452.38590406]\n"
     ]
    },
    {
     "data": {
      "image/png": "[encoded data removed]",
      "text/plain": [
       "<Figure size 1080x432 with 6 Axes>"
      ]
     },
     "metadata": {
      "needs_background": "light"
     },
     "output_type": "display_data"
    }
   ],
   "source": [
    "#Step 3: evaluation\n",
    "import matplotlib.pyplot as plt\n",
    "\n",
    "print(\"Min RMSE: \", np.amin(test_error))\n",
    "pos = np.where(test_error== np.amin(test_error))\n",
    "print('Position of min RMSE: ', pos)\n",
    "print(list(pw))\n",
    "print(list(n))\n",
    "\n",
    "print('\\nMin RMSE for each polynomial ')\n",
    "print(np.amin(test_error, axis = 1))\n",
    "\n",
    "\n",
    "#plotting\n",
    "fig, axs = plt.subplots(2,3, figsize=(15, 6))\n",
    "fig.suptitle('Model Capacity and Sample Size vs RMSE',fontsize=20)\n",
    "axs = axs.flatten()\n",
    "for i in pw:\n",
    "    axs[i-1].plot(n, train_error[i-1,:], color = 'blue', label = 'Train')\n",
    "    axs[i-1].plot(n, test_error[i-1,:], color = 'green', label = 'Test')\n",
    "    axs[i-1].plot(n, radBound[i-1], color = 'red', label = 'Rad')\n",
    "    axs[i-1].legend(loc='upper right')\n",
    "    axs[i-1].set_title(\"Polynomial %d\" %i)\n",
    "plt.show()"
   ]
  },
  {
   "cell_type": "code",
   "execution_count": 62,
   "metadata": {},
   "outputs": [
    {
     "name": "stdout",
     "output_type": "stream",
     "text": [
      "    |   Population Average    |             Best Individual              |\n",
      "---- ------------------------- ------------------------------------------ ----------\n",
      " Gen   Length          Fitness   Length          Fitness      OOB Fitness  Time Left\n",
      "   0    11.59      7.13871e+15       21          23407.4          74490.6     46.13s\n",
      "   1    10.78      1.59208e+10       13          15165.5          66690.6     51.25s\n",
      "   2    11.26      4.27597e+10       10          14570.2          68988.6     47.25s\n",
      "   3    12.84      9.81535e+10       17          14570.2          68988.6     46.62s\n",
      "   4    12.30      7.23962e+10       11          14488.2          69108.1     43.65s\n",
      "   5    12.54      3.50238e+11        9          14679.3          67436.4     44.16s\n",
      "   6    12.78      5.70528e+10       21          14948.3          67155.6     42.83s\n",
      "   7    13.23      1.52492e+10       13          14525.3          67103.7     41.37s\n",
      "   8    13.65      1.03983e+10       15          14046.9          67646.1     39.42s\n",
      "   9    13.77      4.33551e+10       24          11301.6          73152.7     38.32s\n",
      "  10    14.24      3.92221e+10       14          11378.5          71740.4     36.14s\n",
      "  11    15.36      4.56703e+10       26          11512.8          71196.4     35.44s\n",
      "  12    15.61       1.7274e+10       23          14702.8          66939.5     33.87s\n",
      "  13    16.27      4.37966e+10       57          11552.4            71124     28.16s\n",
      "  14    17.11      3.40389e+10       13          14488.8          69108.1     17.28s\n",
      "  15    18.13      6.95839e+14       24          11300.5          73152.3     13.22s\n",
      "  16    18.62      1.64301e+15       33            11558          71131.6     12.22s\n",
      "  17    19.42      3.38946e+10       29          11296.9          73157.1     12.05s\n",
      "  18    20.50      1.23314e+11       25          11497.9          71099.9     10.88s\n",
      "  19    20.79      4.70979e+10       10          14553.5          67424.4     10.07s\n",
      "  20    19.69        2.682e+15       25          11555.1          71136.2      8.83s\n",
      "  21    20.02      2.98582e+10       68          14671.3          67436.6      7.94s\n",
      "  22    19.41      4.04203e+10       34          13224.9          68658.7      7.20s\n",
      "  23    21.19      4.90832e+09       60          11538.6          71096.8      6.09s\n",
      "  24    21.81      6.14857e+10       34          14694.2          66954.3      5.24s\n",
      "  25    21.11      6.34259e+10       34          13239.4          68667.2      4.15s\n",
      "  26    20.92      4.03305e+10       79          14629.4          69545.5      3.20s\n",
      "  27    21.42      5.81791e+10       18          13240.3          68666.7      2.09s\n",
      "  28    21.81      8.23719e+11       78          14768.7          67957.5      1.04s\n",
      "  29    21.67      3.29771e+10        7          15300.7          66001.7      0.00s\n",
      "add(mul(xexp(X0), X1), sqrt(X1))\n"
     ]
    }
   ],
   "source": [
    "#Step 4: Symbolic Regression\n",
    "import gplearn as gpl        \n",
    "from gplearn.genetic import SymbolicRegressor\n",
    "\n",
    "# Create custom operations (exp) to be considered in the tree\n",
    "def xexp( x ):\n",
    "    a = np.exp(x); \n",
    "    a[ np.abs(a) > 1e+9 ] = 1e+9\n",
    "    return a \n",
    "\n",
    "xexp = gpl.functions.make_function( function = _xexp, name='xexp', arity=1 )\n",
    "f_set = function_set = ['add','mul', 'div', 'log', 'sqrt', 'neg', xexp]\n",
    "est_gp = SymbolicRegressor(population_size=2000, metric = 'rmse',\n",
    "                           generations=30, stopping_criteria=5000,\n",
    "                           p_crossover=0.7, p_subtree_mutation=0.1,\n",
    "                           p_hoist_mutation=0.1, p_point_mutation=0.1,\n",
    "                           max_samples=0.9, verbose=1,\n",
    "                           parsimony_coefficient=20, random_state=0,\n",
    "                           function_set = f_set)\n",
    "power = []\n",
    "samples = []\n",
    "for i in pw: \n",
    "    power.append(i)  \n",
    "for i in n: \n",
    "    samples.append(i)  \n",
    "\n",
    "a = np.transpose([ np.repeat(samples, len(power)), np.tile(power, len(samples))])\n",
    "error = np.array(list(test_error.flatten()))\n",
    "est_gp.fit(a,100*error)\n",
    "print(est_gp._program)"
   ]
  },
  {
   "cell_type": "code",
   "execution_count": 63,
   "metadata": {},
   "outputs": [
    {
     "name": "stdout",
     "output_type": "stream",
     "text": [
      "MSE (test_error x symbolic regressor)\n",
      "74937.72806625375\n"
     ]
    },
    {
     "data": {
      "image/png": "[encoded data removed]",
      "text/plain": [
       "<Figure size 432x288 with 1 Axes>"
      ]
     },
     "metadata": {
      "needs_background": "light"
     },
     "output_type": "display_data"
    },
    {
     "data": {
      "image/png": "[encoded data removed]",
      "text/plain": [
       "<Figure size 432x288 with 1 Axes>"
      ]
     },
     "metadata": {
      "needs_background": "light"
     },
     "output_type": "display_data"
    }
   ],
   "source": [
    "#Step 5: Evaluation for Symbolic Regressor\n",
    "y = ((np.exp(a[:,0])* a[:,1])+ np.sqrt(a[:,1]))/100\n",
    "\n",
    "print(\"MSE (test_error x symbolic regressor)\")\n",
    "print(mean_squared_error(error, y.reshape(-1,1)))\n",
    "\n",
    "plt.title(\"Sample Size vs Error\")\n",
    "plt.scatter(a[:,0],error, label = 'real')\n",
    "plt.scatter(a[:,0],y.reshape(-1,1), label = 'gp')\n",
    "plt.legend(loc='upper right')\n",
    "plt.show()\n",
    "plt.title(\"Power vs Error\")\n",
    "plt.scatter(a[:,1],error, label = 'real')\n",
    "plt.scatter(a[:,1],y.reshape(-1,1), label = 'gp')\n",
    "plt.legend(loc='upper right')\n",
    "plt.show()"
   ]
  },
  {
   "cell_type": "markdown",
   "metadata": {},
   "source": [
    "### Conclusions experiment 3: \n",
    "**Empirical Error Estimation Results:**\n",
    "<br>For Multivariate regression and this dataset, the best results were found when power = 1 at a model trained with 8 samples. By adding more polinomials, the model clearly overfits.\n",
    "<br>As in all other experiments, once model capacity is added the theoretical bounds do not approximate test_error well. \n",
    "\n",
    "**Symbolic Regression Results:**\n",
    "<br>Symbolic regression finds a mathematical equation that relates model capacity and test error.\n",
    "<br> $$ (e^{n}*pw) + sqrt(pw) $$\n",
    "\n",
    "Where n is the number the sample size, pw is the model capacity and c is a constant. "
   ]
  },
  {
   "cell_type": "code",
   "execution_count": null,
   "metadata": {},
   "outputs": [],
   "source": []
  }
 ],
 "metadata": {
  "kernelspec": {
   "display_name": "Python 3",
   "language": "python",
   "name": "python3"
  },
  "language_info": {
   "codemirror_mode": {
    "name": "ipython",
    "version": 3
   },
   "file_extension": ".py",
   "mimetype": "text/x-python",
   "name": "python",
   "nbconvert_exporter": "python",
   "pygments_lexer": "ipython3",
   "version": "3.6.7"
  }
 },
 "nbformat": 4,
 "nbformat_minor": 2
}
